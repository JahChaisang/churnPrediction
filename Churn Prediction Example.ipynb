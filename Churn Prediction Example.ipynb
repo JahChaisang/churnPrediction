{
 "cells": [
  {
   "cell_type": "markdown",
   "metadata": {},
   "source": [
    "# Predicting Customer Churn\n",
    "\n",
    "In business world, one important measure is \"Churn Rate\", the rate at which customers terminate the service. For example, in telecommunication, customer churn is one of the most important business health metrics, so important they have customer churn agents whose job is to call customers who are likely to leave and offer them very special deals to tempt them to stay.\n",
    "\n",
    "In this example, we look at a dataset from telecommunication industry. Each customer profile (row) has several variables as shown in the table below.\n",
    "\n",
    "The last column (Churn?) is the output variable we are interested in. We want to look into all customers in our database and predict the likelihood of each customer leaving the business.\n",
    "\n",
    "*For banking, churn may be defined as the closing of the account or the absence of transactions over some predefined period.*\n",
    "\n",
    "The following data is an example of customer database from a telecom firm."
   ]
  },
  {
   "cell_type": "code",
   "execution_count": 16,
   "metadata": {
    "collapsed": false,
    "scrolled": true
   },
   "outputs": [
    {
     "name": "stdout",
     "output_type": "stream",
     "text": [
      "Column names:\n",
      "['State', 'Account Length', 'Area Code', 'Phone', \"Int'l Plan\", 'VMail Plan', 'VMail Message', 'Day Mins', 'Day Calls', 'Day Charge', 'Eve Mins', 'Eve Calls', 'Eve Charge', 'Night Mins', 'Night Calls', 'Night Charge', 'Intl Mins', 'Intl Calls', 'Intl Charge', 'CustServ Calls', 'Churn?']\n",
      "\n",
      "Sample data:\n"
     ]
    },
    {
     "data": {
      "text/html": [
       "<div>\n",
       "<table border=\"1\" class=\"dataframe\">\n",
       "  <thead>\n",
       "    <tr style=\"text-align: right;\">\n",
       "      <th></th>\n",
       "      <th>State</th>\n",
       "      <th>Account Length</th>\n",
       "      <th>Area Code</th>\n",
       "      <th>Phone</th>\n",
       "      <th>Int'l Plan</th>\n",
       "      <th>VMail Plan</th>\n",
       "      <th>Night Charge</th>\n",
       "      <th>Intl Mins</th>\n",
       "      <th>Intl Calls</th>\n",
       "      <th>Intl Charge</th>\n",
       "      <th>CustServ Calls</th>\n",
       "      <th>Churn?</th>\n",
       "    </tr>\n",
       "  </thead>\n",
       "  <tbody>\n",
       "    <tr>\n",
       "      <th>0</th>\n",
       "      <td>KS</td>\n",
       "      <td>128</td>\n",
       "      <td>415</td>\n",
       "      <td>382-4657</td>\n",
       "      <td>no</td>\n",
       "      <td>yes</td>\n",
       "      <td>11.01</td>\n",
       "      <td>10.0</td>\n",
       "      <td>3</td>\n",
       "      <td>2.70</td>\n",
       "      <td>1</td>\n",
       "      <td>False.</td>\n",
       "    </tr>\n",
       "    <tr>\n",
       "      <th>1</th>\n",
       "      <td>OH</td>\n",
       "      <td>107</td>\n",
       "      <td>415</td>\n",
       "      <td>371-7191</td>\n",
       "      <td>no</td>\n",
       "      <td>yes</td>\n",
       "      <td>11.45</td>\n",
       "      <td>13.7</td>\n",
       "      <td>3</td>\n",
       "      <td>3.70</td>\n",
       "      <td>1</td>\n",
       "      <td>False.</td>\n",
       "    </tr>\n",
       "    <tr>\n",
       "      <th>2</th>\n",
       "      <td>NJ</td>\n",
       "      <td>137</td>\n",
       "      <td>415</td>\n",
       "      <td>358-1921</td>\n",
       "      <td>no</td>\n",
       "      <td>no</td>\n",
       "      <td>7.32</td>\n",
       "      <td>12.2</td>\n",
       "      <td>5</td>\n",
       "      <td>3.29</td>\n",
       "      <td>0</td>\n",
       "      <td>False.</td>\n",
       "    </tr>\n",
       "    <tr>\n",
       "      <th>3</th>\n",
       "      <td>OH</td>\n",
       "      <td>84</td>\n",
       "      <td>408</td>\n",
       "      <td>375-9999</td>\n",
       "      <td>yes</td>\n",
       "      <td>no</td>\n",
       "      <td>8.86</td>\n",
       "      <td>6.6</td>\n",
       "      <td>7</td>\n",
       "      <td>1.78</td>\n",
       "      <td>2</td>\n",
       "      <td>False.</td>\n",
       "    </tr>\n",
       "    <tr>\n",
       "      <th>4</th>\n",
       "      <td>OK</td>\n",
       "      <td>75</td>\n",
       "      <td>415</td>\n",
       "      <td>330-6626</td>\n",
       "      <td>yes</td>\n",
       "      <td>no</td>\n",
       "      <td>8.41</td>\n",
       "      <td>10.1</td>\n",
       "      <td>3</td>\n",
       "      <td>2.73</td>\n",
       "      <td>3</td>\n",
       "      <td>False.</td>\n",
       "    </tr>\n",
       "    <tr>\n",
       "      <th>5</th>\n",
       "      <td>AL</td>\n",
       "      <td>118</td>\n",
       "      <td>510</td>\n",
       "      <td>391-8027</td>\n",
       "      <td>yes</td>\n",
       "      <td>no</td>\n",
       "      <td>9.18</td>\n",
       "      <td>6.3</td>\n",
       "      <td>6</td>\n",
       "      <td>1.70</td>\n",
       "      <td>0</td>\n",
       "      <td>False.</td>\n",
       "    </tr>\n",
       "  </tbody>\n",
       "</table>\n",
       "</div>"
      ],
      "text/plain": [
       "  State  Account Length  Area Code     Phone Int'l Plan VMail Plan  \\\n",
       "0    KS             128        415  382-4657         no        yes   \n",
       "1    OH             107        415  371-7191         no        yes   \n",
       "2    NJ             137        415  358-1921         no         no   \n",
       "3    OH              84        408  375-9999        yes         no   \n",
       "4    OK              75        415  330-6626        yes         no   \n",
       "5    AL             118        510  391-8027        yes         no   \n",
       "\n",
       "   Night Charge  Intl Mins  Intl Calls  Intl Charge  CustServ Calls  Churn?  \n",
       "0         11.01       10.0           3         2.70               1  False.  \n",
       "1         11.45       13.7           3         3.70               1  False.  \n",
       "2          7.32       12.2           5         3.29               0  False.  \n",
       "3          8.86        6.6           7         1.78               2  False.  \n",
       "4          8.41       10.1           3         2.73               3  False.  \n",
       "5          9.18        6.3           6         1.70               0  False.  "
      ]
     },
     "execution_count": 16,
     "metadata": {},
     "output_type": "execute_result"
    }
   ],
   "source": [
    "import warnings\n",
    "warnings.filterwarnings('ignore')\n",
    "\n",
    "import pandas as pd\n",
    "import numpy as np\n",
    "\n",
    "# loading up data and printing them to get a general idea\n",
    "\n",
    "churn_df = pd.read_csv('churn.csv')\n",
    "col_names = churn_df.columns.tolist()\n",
    "\n",
    "print(\"Column names:\")\n",
    "print(col_names)\n",
    "\n",
    "to_show = col_names[:6] + col_names[-6:]\n",
    "\n",
    "print(\"\\nSample data:\")\n",
    "churn_df[to_show].head(6)"
   ]
  },
  {
   "cell_type": "markdown",
   "metadata": {},
   "source": [
    "## Data Preprocessing\n",
    "\n",
    "Now that we got a rough idea of what data look like let's transform data into usable format. We perform the following transformations:\n",
    "\n",
    "1. Drop features that are not likely to help us predict churn (state, area code, phone number)\n",
    "2. Transform features with 'yes / no' or 'True / False' values to 0.0 and 1.0"
   ]
  },
  {
   "cell_type": "code",
   "execution_count": 17,
   "metadata": {
    "collapsed": false
   },
   "outputs": [],
   "source": [
    "# Drop columns that we don't think would help\n",
    "to_drop = ['State','Area Code','Phone','Churn?']\n",
    "X = churn_df.drop(to_drop,axis=1)\n",
    "\n",
    "# Separate target values, [Churn?] column, into another variable called churn_result\n",
    "# Transform [Churn?] column to 0 and 1 (instead of False and True)\n",
    "churn_result = churn_df['Churn?']\n",
    "y = np.where(churn_result == 'True.',1,0)\n",
    "\n",
    "# Transform some columns with 'yes'/'no' values and convert to 1 and 0\n",
    "# X stores all features (x1 through x7)\n",
    "yes_no_cols = [\"Int'l Plan\",\"VMail Plan\"]\n",
    "X[yes_no_cols] = X[yes_no_cols] == 'yes'\n",
    "X = X.as_matrix().astype(np.float)"
   ]
  },
  {
   "cell_type": "markdown",
   "metadata": {},
   "source": [
    "The following part is important. We took our 7-column feature tables and scale them. Standard scaler basically 'standardize' all feature column, so that each column has zero mean and is scaled by standard deviation."
   ]
  },
  {
   "cell_type": "code",
   "execution_count": 18,
   "metadata": {
    "collapsed": false
   },
   "outputs": [
    {
     "name": "stdout",
     "output_type": "stream",
     "text": [
      "Feature space holds 3333 observations and 17 features\n",
      "Unique target labels: [0 1]\n"
     ]
    }
   ],
   "source": [
    "from sklearn.preprocessing import StandardScaler\n",
    "scaler = StandardScaler()\n",
    "X = scaler.fit_transform(X)\n",
    "\n",
    "print(\"Feature space holds %d observations and %d features\" % X.shape)\n",
    "print(\"Unique target labels:\", np.unique(y))"
   ]
  },
  {
   "cell_type": "markdown",
   "metadata": {},
   "source": [
    "## Machine learning models\n",
    "\n",
    "One big question is \"How do we classify customers based on these data that we have??\" Simple question, complex answers!\n",
    "\n",
    "We want to build a model that is able to predict whether customers will churn (1) or not churn (0). Since the predicted response is categorical, this problem is clearly a classification problem.\n",
    "\n",
    "For this lesson let's consider 4 classification models. We want to explore them in more details below.\n",
    "\n",
    "### 1. Logistic Regression\n",
    "\n",
    "We are familiar with the linear regression model already. Logistic regression model is a little step up from that.\n",
    "\n",
    "** Linear Regression Model **\n",
    "\n",
    "$$ h(x) = \\theta_0 + \\theta_1 x $$\n",
    "\n",
    "** Logistic Regression Model **\n",
    "\n",
    "$$ h(x) = f(\\theta_0 + \\theta_1 x) $$\n",
    "$$ f(x) = \\frac{1}{1+e^{-x}} $$\n",
    "\n",
    "Function `f(x)` is called logistic equation. Let's plot and see how it looks like:"
   ]
  },
  {
   "cell_type": "code",
   "execution_count": 19,
   "metadata": {
    "collapsed": false
   },
   "outputs": [
    {
     "data": {
      "text/plain": [
       "<matplotlib.text.Text at 0x110ce9cf8>"
      ]
     },
     "execution_count": 19,
     "metadata": {},
     "output_type": "execute_result"
    },
    {
     "data": {
      "image/png": "[encoded data removed]",
      "text/plain": [
       "<matplotlib.figure.Figure at 0x1116675c0>"
      ]
     },
     "metadata": {},
     "output_type": "display_data"
    }
   ],
   "source": [
    "import numpy as np\n",
    "import matplotlib.pyplot as plt\n",
    "%matplotlib inline\n",
    "\n",
    "x1 = np.linspace(-5,5,50)\n",
    "fx = 1/(1 + np.exp(-x1))\n",
    "\n",
    "plt.plot(x1, fx, c='red', linewidth=2)\n",
    "plt.xlabel('x')\n",
    "plt.ylabel('f(x)')"
   ]
  },
  {
   "cell_type": "markdown",
   "metadata": {},
   "source": [
    "Logistic function has one important characteristic; the value of `h(x)` is bounded between 0 and 1, meaning that the predicted value cannot exceed these limits. This function is perfect for modeling categorical variables, where `h(x)` reflects the probability of the sample belonging to category 1.\n",
    "\n",
    "Let us see an example of how to fit logistic regression on a data.\n",
    "\n",
    "Here we will use a different sample data set to demonstrate logistic regression. Suppose that the variable `x` here is the size of patients' tumors. Variable `y` is the label whether that patient's tumor is malignant (cancer) or not. To gain intuition, let us plot the graph of x and y."
   ]
  },
  {
   "cell_type": "code",
   "execution_count": 20,
   "metadata": {
    "collapsed": false
   },
   "outputs": [
    {
     "data": {
      "text/plain": [
       "<matplotlib.text.Text at 0x10a85c2e8>"
      ]
     },
     "execution_count": 20,
     "metadata": {},
     "output_type": "execute_result"
    },
    {
     "data": {
      "image/png": "[encoded data removed]",
      "text/plain": [
       "<matplotlib.figure.Figure at 0x10c70f2e8>"
      ]
     },
     "metadata": {},
     "output_type": "display_data"
    }
   ],
   "source": [
    "dat = pd.read_csv('logistic1.csv')\n",
    "x2 = dat.x.reshape(214,1)\n",
    "y2 = dat.y.reshape(214,1)\n",
    "\n",
    "# Here we plot the graph of x and y\n",
    "plt.scatter(x2, y2)\n",
    "plt.xlabel('x')\n",
    "plt.ylabel('y')\n"
   ]
  },
  {
   "cell_type": "markdown",
   "metadata": {},
   "source": [
    "From the plot above, one can see that the value of `x` predicts the category `y` slightly. If x is high, y is more likely to be 1. If x is low, y is more likely to be zero.\n",
    "\n",
    "We will now try to fit logistic regression to this data."
   ]
  },
  {
   "cell_type": "code",
   "execution_count": 21,
   "metadata": {
    "collapsed": false
   },
   "outputs": [
    {
     "data": {
      "text/plain": [
       "<matplotlib.text.Text at 0x10a8516d8>"
      ]
     },
     "execution_count": 21,
     "metadata": {},
     "output_type": "execute_result"
    },
    {
     "data": {
      "image/png": "[encoded data removed]",
      "text/plain": [
       "<matplotlib.figure.Figure at 0x10c2666d8>"
      ]
     },
     "metadata": {},
     "output_type": "display_data"
    }
   ],
   "source": [
    "from sklearn.linear_model import LogisticRegression\n",
    "logreg = LogisticRegression(C=1e9)\n",
    "logreg.fit(x2, y2)\n",
    "hx = logreg.predict_proba(x2)[:,1]\n",
    "\n",
    "plt.scatter(x2, y2)\n",
    "plt.plot(x2, hx, color='red')\n",
    "plt.xlabel('x')\n",
    "plt.ylabel('y')"
   ]
  },
  {
   "cell_type": "markdown",
   "metadata": {},
   "source": [
    "From the example above, we see how logistic function works. The red line is `h(x)` which is the prediction of logistic regression model. `h(x)` is the probability that the patient's tumor will be malignant given the size of the tumor (`x`). If `h(x) = 0.8`, it means that we predict with 80% confidence that the patient will have cancer. From the graph, if a new patient walks in and their tumor size is 2.1, we are 80% sure that he has cancer.\n",
    "\n",
    "Note that, as in the case of linear regression, the red line is simply our prediction. The blue dots are the real data from real patients. Notice that there is disparity between red line and blue dots. So our model is not 100% correct.\n",
    "\n",
    "We may calculate the goodness of the model. There are many ways to do it (such as the measures called cross-entropy error or ROC) for now we will do the simplest thing. If `h(x) >= 0.5`, we guess that the patient has cancer. If `h(x) < 0.5`, we guess the patient doesn't have cancer. Then, we simply calculate how many of our predictions align with the truth."
   ]
  },
  {
   "cell_type": "code",
   "execution_count": 31,
   "metadata": {
    "collapsed": false
   },
   "outputs": [
    {
     "name": "stdout",
     "output_type": "stream",
     "text": [
      "accuracy = 67.8530876059%\n"
     ]
    }
   ],
   "source": [
    "y_pred = logreg.predict(x2)\n",
    "print(\"accuracy = \" + str(np.mean(y2 == y_pred)*100) + '%')"
   ]
  },
  {
   "cell_type": "markdown",
   "metadata": {},
   "source": [
    "This is not a very great model if we judge from the accuracy, but it helps us understand logistic regression for now!\n",
    "\n",
    "If you think about it a little longer you will realized that logistic regression simply draw a simple boundary on the graph where `h(x)=0.5`."
   ]
  },
  {
   "cell_type": "code",
   "execution_count": 36,
   "metadata": {
    "collapsed": false
   },
   "outputs": [
    {
     "name": "stdout",
     "output_type": "stream",
     "text": [
      "The value of h(x): 0.500\n"
     ]
    }
   ],
   "source": [
    "x_bound = 1.8455\n",
    "y_pred = logreg.predict_proba(x_bound)\n",
    "print(\"The value of h(x): %3.3f\" % y_pred[0][1])"
   ]
  },
  {
   "cell_type": "code",
   "execution_count": 39,
   "metadata": {
    "collapsed": false
   },
   "outputs": [
    {
     "data": {
      "text/plain": [
       "<matplotlib.text.Text at 0x111929b70>"
      ]
     },
     "execution_count": 39,
     "metadata": {},
     "output_type": "execute_result"
    },
    {
     "data": {
      "image/png": "[encoded data removed]",
      "text/plain": [
       "<matplotlib.figure.Figure at 0x10988e9e8>"
      ]
     },
     "metadata": {},
     "output_type": "display_data"
    }
   ],
   "source": [
    "plt.scatter(x2, y2)\n",
    "plt.plot(x2, hx, color='red')\n",
    "plt.plot([x_bound,x_bound], [-0.2,1.2], color='black')\n",
    "plt.xlabel('x')\n",
    "plt.ylabel('y')"
   ]
  },
  {
   "cell_type": "markdown",
   "metadata": {},
   "source": [
    "If `x` is below 1.8455, we predict that the patient doesn't have cancer. If above, we predict that the patient has cancer."
   ]
  },
  {
   "cell_type": "markdown",
   "metadata": {},
   "source": [
    "In general, logistic regression is nothing but drawing boundary on the graphs. For example, in the case of our housing example, fitting logistic regression fits a boundary line to minimize classification errors. In the following figure, all boundary lines have the same errors.\n",
    "\n",
    "<img src=\"logisbound-01.png\" width=\"400\">"
   ]
  },
  {
   "cell_type": "markdown",
   "metadata": {},
   "source": [
    "### 2. K-Nearest Neighbor\n",
    "\n",
    "Nearest neighbor classification (or often called instance-based learning) is the laziest algorithm there is (hence the nickname of ‘lazy learning’). Here are some learning steps.\n",
    "\n",
    "1. When the training set is given, do nothing.\n",
    "2. When the testing sample, `x`, is given, find a sample that is nearest to `x`. Predict `y` of `x` to be the same as `y` of the nearest neighbor.\n",
    "\n",
    "Example from our house classification problem. The grey dot is the sample. Sample's nearest neighbor belongs to red category, therefore our prediction of sample's category is red.\n",
    "\n",
    "<img src=\".\\nn.png\" width=\"800\">\n",
    "\n",
    "** K-Nearest Neighbor Methods ** <br>\n",
    "􏰀\n",
    "Find k neighbor points closest to `x`. Predict `y` of `x` to be the `y` of the majority of neighbors. If you wish, you can also assign weight to `y` according to how close each neighbor is. \n",
    "\n",
    "** Distance function **\n",
    "\n",
    "One may use any distance functions. The most popular one is Euclidean distance. See [SkLearn Distance Metrics](http://scikit-learn.org/stable/modules/generated/sklearn.neighbors.DistanceMetric.html) for more details.\n",
    "\n",
    "** Parameters **\n",
    "\n",
    "There's only one most important parameter parameter to adjust here which is `k` the number of neighbors we use. The smaller `k` the more likely it will overfit. The larger `k` will yield underfitting.\n",
    "\n",
    "sk-learn allows you to adjust weighting functions and use more fancy neighbor search, we are going to stick to the basics for now.\n",
    "\n",
    "** Pros and Cons **\n",
    "\n",
    "*Advantage*<br>\n",
    "1. Training takes no time.\n",
    "2. Complex function fit is possible. 􏰀 \n",
    "3. Information is not lost.\n",
    "\n",
    "*Disadvantage*<br>\n",
    "1. Query is slow (the more data the slower). 􏰀 \n",
    "2. Storage space is huge.\n",
    "3. Easily fooled by irrelevant features.\n",
    "\n",
    "For more information and examples, check [sk-learn nearest neighbor page](http://scikit-learn.org/stable/modules/generated/sklearn.neighbors.KNeighborsClassifier.html#sklearn.neighbors.KNeighborsClassifier)."
   ]
  },
  {
   "cell_type": "markdown",
   "metadata": {},
   "source": [
    "### 3. Decision Tree\n",
    "\n",
    "Decision tree is another simple machine learning models. It's really easy to understand and implement. Here's a classic example of decision tree.\n",
    "\n",
    "You have a friend named Josh and you'd ask him everyday whether he'd go play tennis with you. Over time, you collected Josh's responses and create a decision tree model of his answers.\n",
    "\n",
    "<img src=\".\\decision_tree.png\" width=\"600\">\n",
    "\n",
    "Here the `y` variable is yes or no. And suppose we have 4 features:<br>\n",
    "x1 = Outlook, {sunny, overcast, rain}<br>\n",
    "x2 = Temperature, {hot, warm, cold}<br>\n",
    "x3 = Humidity, {high, normal}<br>\n",
    "x4 = Wind, {strong, weak}<br>\n",
    "\n",
    "Both `x` and `y` do not have to be categorical. For example, if temperature is continuous number (0-100 degrees) the tree branch can be\n",
    "\n",
    "x2 = Temperature, {`<28` degrees, `>=28` degrees}<br>\n",
    "\n",
    "What decision tree models do is to split the entire input space in to grid blocks, where each block must contain data points of the same category, with as little contamination as possible.\n",
    "\n",
    "<img src=\".\\block.png\" width=\"600\">\n",
    "\n",
    "#### Decision tree algorithm\n",
    "\n",
    "<img src=\".\\dt1.png\" width=\"600\">\n",
    "<img src=\".\\dt2.png\" width=\"600\">\n",
    "\n",
    "The algorithm makes all these decisions based on the principle of probability and information theory. The whole theory is too in depth to cover here. For those who are interested in learn more, please check [this page](http://www.saedsayad.com/decision_tree.htm).\n",
    "\n",
    "To put it simply, decision tree calculates how much knowing about each x feature leads to better knowledge about y (information gain). It will choose to split along the x that leads to best information gain. Once it has chosen which x to split, it will pick the split point by minimizing error of classification on both sides of the split.\n",
    "\n",
    "#### Random Forest Algorithm\n",
    "\n",
    "Since decision trees are known to be prone to overfitting. Mathematicians come up with the enhanced version called random forest algorithm. Random forests construct multiple decision trees simultaneously, each started at different random initial conditions. When it's time to make predictions, all trees might have different opinions about how the sample should be classified. Random forests basically take votes from all trees and make the final guess from the majority. This is known to improve performance dramatically."
   ]
  },
  {
   "cell_type": "markdown",
   "metadata": {},
   "source": [
    "### 4. Support Vector Machine\n",
    "\n",
    "Support vector machine (or SVM) is a difficult algorithm even for some math-savvy people. So if you do not get it, it's okay. We are just going to touch on the geometric interpretation of the algorithm.\n",
    "\n",
    "#### Support vector and kernel\n",
    "\n",
    "There are two terms you need to understand. <br>\n",
    "**Support Vector** is some training samples from your data (some $x^1$, $x^2$, etc.) <br>\n",
    "**Kernel** is the similarity function. The definition of the similarity between two samples. Kernel function is a function of two variables $K(x^i,x^j)$. For example, a Gaussian kernel in the image below.<br>\n",
    "\n",
    "Suppose u here is the patient's tumor size. The similarity between patient i who has tumor size = 3 and patient j with tumor size = 4 is $K(0,1)$ or roughly 0.5. If patient i and patient j are similar, the value $K(x^i,x^j)$ will be high.<br><br>\n",
    "\n",
    "<img src=\".\\eqn_sw2s.png\" width=300>\n",
    "\n",
    "<img src=\".\\gaussiankernel.jpg\" width=400>\n",
    "\n",
    "You see that the vocabs are unnecessarily difficult, but the concepts are simple.\n",
    "\n",
    "#### Feature construction\n",
    "\n",
    "SVM construct a whole new space of features by calculating the similarities (kernel) between the sample we want to predict to all support vectors. \n",
    "\n",
    "<img src=\".\\svm.png\" width=400>\n",
    "\n",
    "To put simply, we randomly pick some vectors from all available samples to be our support vectors (say, [$x^1$, $x^2$, ...]. When it's time to predict the category of a given sample ($x^i$), we calculate the distance between that sample to all support vectors.\n",
    "\n",
    "$$f^1(x^i) = K(x^i, x^1)$$<br>\n",
    "$$f^2(x^i) = K(x^i, x^2)$$<br>\n",
    "$$...$$\n",
    "\n",
    "Then, we use [$f^1(x^i)$, $f^1(x^i)$, ...] as a new set of features for our classification.\n",
    "\n",
    "This simply means that we transform the old set of features (`x`) into a new set of features (`f`), for simpler classification.\n",
    "\n",
    "<img src=\".\\slide_19.jpg\" width=600>\n",
    "picture credit: Statnikov et al., A Gentle Introduction to Support Vector Machines in Biomedicine.\n",
    "\n",
    "#### Classification\n",
    "\n",
    "After we reconstruct the data in a new feature space, we are now ready to classify. \n",
    "\n",
    "SVM has its own way of finding optimal solution for classification. We will not go into the details here, just try to gain intuition. First, we will be plotting data in the feature space, not the regular x1 and x2 space. Then, SVM algorithm will try to construct an optimal boundary line between data. The figure below demonstrates what SVM deems optimal. We are trying to draw a boundary that separates data points belonging to blue and red categories. The middle figure demonstrates the non-optimal boundary where the category members are located too close to the boundary. The right figure demonstrates the optimal boundary where the category members are located furthest from the boundary. This is the solution SVM is trying to find. It adjusts the boundary until it achieves the optimal boundary-to-sample distance.\n",
    "\n",
    "<img src=\".\\svm_bound.png\" width=700>\n",
    "\n",
    "After the boundary is trained, new sample will be categorized according to such boundary. If the sample lands on the right side of the boundary, we predict red, if the left side, we predict blue."
   ]
  },
  {
   "cell_type": "markdown",
   "metadata": {},
   "source": [
    "### Training the model\n",
    "\n",
    "Now we have our features all preprocessed and our target formatted. Let us have fun with some model training.\n",
    "\n",
    "Remember, to prevent overfitting, we recommended dividing data into training and testing sets. Train the model with the training set and test the model with the testing set. This process is called cross-validation.\n",
    "\n",
    "To be even more robust, we can do k-fold cross-validation. This means the original data are randomly partitioned into k chunks. In each round of validation, a chunk of data is used as the testing set, while the other k-1 chunks are used as training set. After all k rounds are completed the model performances are averaged across k rounds to give a single metric of model validated result.\n",
    "\n",
    "\n",
    "sklearn provides a simple way to do this, with cross_validation module.\n",
    "\n",
    "This function is written to perform validation quickly on any model held in the variable `clf_class`. The function first construct k data chunks. Loop through all the chunks. Construct a model based on variables we specify in `**kwargs`. Fit the model with training set and return predictions on the testing set.\n"
   ]
  },
  {
   "cell_type": "code",
   "execution_count": 5,
   "metadata": {
    "collapsed": true
   },
   "outputs": [],
   "source": [
    "from sklearn.cross_validation import KFold\n",
    "\n",
    "def run_cv(X,y,clf_class,**kwargs):\n",
    "    # Construct a kfolds object\n",
    "    kf = KFold(len(y),n_folds=5,shuffle=True)\n",
    "    y_pred = y.copy()\n",
    "    \n",
    "    # Iterate through folds\n",
    "    for train_index, test_index in kf:\n",
    "        X_train, X_test = X[train_index], X[test_index]\n",
    "        y_train = y[train_index]\n",
    "        # Initialize a classifier with key word arguments\n",
    "        clf = clf_class(**kwargs)\n",
    "        clf.fit(X_train,y_train)\n",
    "        y_pred[test_index] = clf.predict(X_test)\n",
    "    return y_pred"
   ]
  },
  {
   "cell_type": "markdown",
   "metadata": {},
   "source": [
    "Another function, `accuracy` took the predicted categories and actual categories (churn or not churn) and compare them to give model accuracy score (0%-100%)."
   ]
  },
  {
   "cell_type": "code",
   "execution_count": 6,
   "metadata": {
    "collapsed": true
   },
   "outputs": [],
   "source": [
    "def accuracy(y_true,y_pred):\n",
    "    # NumPy interprets True and False as 1. and 0.\n",
    "    return np.mean(y_true == y_pred)"
   ]
  },
  {
   "cell_type": "markdown",
   "metadata": {},
   "source": [
    "Then we will use the cross validation function that we just wrote to test 4 classic classification models."
   ]
  },
  {
   "cell_type": "code",
   "execution_count": 8,
   "metadata": {
    "collapsed": false
   },
   "outputs": [
    {
     "name": "stdout",
     "output_type": "stream",
     "text": [
      "Logistic regression:\n",
      "0.861\n",
      "K-nearest-neighbors:\n",
      "0.893\n",
      "Random forest:\n",
      "0.945\n",
      "Support vector machines:\n",
      "0.917\n"
     ]
    }
   ],
   "source": [
    "from sklearn.linear_model import LogisticRegression as LR\n",
    "from sklearn.neighbors import KNeighborsClassifier as KNN\n",
    "from sklearn.ensemble import RandomForestClassifier as RF\n",
    "from sklearn.svm import SVC\n",
    "\n",
    "\n",
    "print(\"Logistic regression:\")\n",
    "print(\"%.3f\" % accuracy(y, run_cv(X,y,LR)))\n",
    "print(\"K-nearest-neighbors:\")\n",
    "print(\"%.3f\" % accuracy(y, run_cv(X,y,KNN)))\n",
    "print(\"Random forest:\")\n",
    "print(\"%.3f\" % accuracy(y, run_cv(X,y,RF)))\n",
    "print(\"Support vector machines:\")\n",
    "print(\"%.3f\" % accuracy(y, run_cv(X,y,SVC)))"
   ]
  },
  {
   "cell_type": "markdown",
   "metadata": {},
   "source": [
    "So it appears here that Random forest is the best model out of all four. Note that these models are used without any configurations. With more tweaking, we can possibly get better performance."
   ]
  },
  {
   "cell_type": "markdown",
   "metadata": {},
   "source": [
    "**Reference**\n",
    "\n",
    "Churn dataset and some codes are modified from [yhat](http://blog.yhat.com/posts/predicting-customer-churn-with-sklearn.html)."
   ]
  }
 ],
 "metadata": {
  "kernelspec": {
   "display_name": "Python 3",
   "language": "python",
   "name": "python3"
  },
  "language_info": {
   "codemirror_mode": {
    "name": "ipython",
    "version": 3
   },
   "file_extension": ".py",
   "mimetype": "text/x-python",
   "name": "python",
   "nbconvert_exporter": "python",
   "pygments_lexer": "ipython3",
   "version": "3.5.1"
  }
 },
 "nbformat": 4,
 "nbformat_minor": 0
}
